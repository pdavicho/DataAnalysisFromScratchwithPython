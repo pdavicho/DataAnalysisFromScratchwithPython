{
 "cells": [
  {
   "cell_type": "markdown",
   "metadata": {},
   "source": [
    "## <h1><center>IE 345 - K “Introduction to Deep Learning: Fundamentals Concepts” </center></h1>\n",
    "### Prof. Yuzo\n",
    "### Clustering\n",
    "#### Association Rule Learning\n",
    "##### pg. 109 - 112"
   ]
  },
  {
   "cell_type": "code",
   "execution_count": 2,
   "metadata": {},
   "outputs": [],
   "source": [
    "import pandas as pd\n",
    "dataset = pd.read_csv('C:/Users/pablo/Desktop/IE345_DeepLearning/DataAnalysisFromScratchwithPython_Peters Morgan/Datasets/Market_Basket_Optimisation.csv', header = None)"
   ]
  },
  {
   "cell_type": "code",
   "execution_count": 3,
   "metadata": {},
   "outputs": [],
   "source": [
    "transactions = []\n",
    "for i in range(0, 7501):\n",
    "    transactions.append([str(dataset.values[i,j]) for j in range(0, 20)])"
   ]
  },
  {
   "cell_type": "code",
   "execution_count": 6,
   "metadata": {},
   "outputs": [
    {
     "name": "stdout",
     "output_type": "stream",
     "text": [
      "[\"RULE:\\tfrozenset({'light cream', 'chicken'})\\nSUPPORT:\\t0.004532728969470737\", \"RULE:\\tfrozenset({'escalope', 'mushroom cream sauce'})\\nSUPPORT:\\t0.005732568990801226\", \"RULE:\\tfrozenset({'escalope', 'pasta'})\\nSUPPORT:\\t0.005865884548726837\", \"RULE:\\tfrozenset({'fromage blanc', 'honey'})\\nSUPPORT:\\t0.003332888948140248\", \"RULE:\\tfrozenset({'ground beef', 'herb & pepper'})\\nSUPPORT:\\t0.015997866951073192\", \"RULE:\\tfrozenset({'ground beef', 'tomato sauce'})\\nSUPPORT:\\t0.005332622317024397\", \"RULE:\\tfrozenset({'olive oil', 'light cream'})\\nSUPPORT:\\t0.003199573390214638\", \"RULE:\\tfrozenset({'olive oil', 'whole wheat pasta'})\\nSUPPORT:\\t0.007998933475536596\", \"RULE:\\tfrozenset({'shrimp', 'pasta'})\\nSUPPORT:\\t0.005065991201173177\", \"RULE:\\tfrozenset({'milk', 'spaghetti', 'avocado'})\\nSUPPORT:\\t0.003332888948140248\", \"RULE:\\tfrozenset({'burgers', 'cake', 'milk'})\\nSUPPORT:\\t0.0037328356219170776\", \"RULE:\\tfrozenset({'burgers', 'chocolate', 'turkey'})\\nSUPPORT:\\t0.0030662578322890282\", \"RULE:\\tfrozenset({'burgers', 'milk', 'turkey'})\\nSUPPORT:\\t0.003199573390214638\", \"RULE:\\tfrozenset({'cake', 'frozen vegetables', 'tomatoes'})\\nSUPPORT:\\t0.0030662578322890282\", \"RULE:\\tfrozenset({'ground beef', 'spaghetti', 'cereals'})\\nSUPPORT:\\t0.0030662578322890282\", \"RULE:\\tfrozenset({'ground beef', 'milk', 'chicken'})\\nSUPPORT:\\t0.0038661511798426876\", \"RULE:\\tfrozenset({'nan', 'light cream', 'chicken'})\\nSUPPORT:\\t0.004532728969470737\", \"RULE:\\tfrozenset({'milk', 'olive oil', 'chicken'})\\nSUPPORT:\\t0.0035995200639914677\", \"RULE:\\tfrozenset({'olive oil', 'spaghetti', 'chicken'})\\nSUPPORT:\\t0.0034662045060658577\", \"RULE:\\tfrozenset({'frozen vegetables', 'chocolate', 'shrimp'})\\nSUPPORT:\\t0.005332622317024397\", \"RULE:\\tfrozenset({'ground beef', 'chocolate', 'herb & pepper'})\\nSUPPORT:\\t0.003999466737768298\", \"RULE:\\tfrozenset({'milk', 'chocolate', 'soup'})\\nSUPPORT:\\t0.003999466737768298\", \"RULE:\\tfrozenset({'ground beef', 'spaghetti', 'cooking oil'})\\nSUPPORT:\\t0.004799360085321957\", \"RULE:\\tfrozenset({'ground beef', 'herb & pepper', 'eggs'})\\nSUPPORT:\\t0.0041327822956939075\", \"RULE:\\tfrozenset({'spaghetti', 'red wine', 'eggs'})\\nSUPPORT:\\t0.0037328356219170776\", \"RULE:\\tfrozenset({'nan', 'escalope', 'mushroom cream sauce'})\\nSUPPORT:\\t0.005732568990801226\", \"RULE:\\tfrozenset({'nan', 'escalope', 'pasta'})\\nSUPPORT:\\t0.005865884548726837\", \"RULE:\\tfrozenset({'ground beef', 'french fries', 'herb & pepper'})\\nSUPPORT:\\t0.003199573390214638\", \"RULE:\\tfrozenset({'nan', 'fromage blanc', 'honey'})\\nSUPPORT:\\t0.003332888948140248\", \"RULE:\\tfrozenset({'frozen vegetables', 'tomatoes', 'green tea'})\\nSUPPORT:\\t0.003332888948140248\", \"RULE:\\tfrozenset({'ground beef', 'frozen vegetables', 'spaghetti'})\\nSUPPORT:\\t0.008665511265164644\", \"RULE:\\tfrozenset({'milk', 'frozen vegetables', 'olive oil'})\\nSUPPORT:\\t0.004799360085321957\", \"RULE:\\tfrozenset({'milk', 'frozen vegetables', 'soup'})\\nSUPPORT:\\t0.003999466737768298\", \"RULE:\\tfrozenset({'milk', 'frozen vegetables', 'tomatoes'})\\nSUPPORT:\\t0.0041327822956939075\", \"RULE:\\tfrozenset({'frozen vegetables', 'shrimp', 'mineral water'})\\nSUPPORT:\\t0.007199040127982935\", \"RULE:\\tfrozenset({'frozen vegetables', 'olive oil', 'spaghetti'})\\nSUPPORT:\\t0.005732568990801226\", \"RULE:\\tfrozenset({'frozen vegetables', 'shrimp', 'spaghetti'})\\nSUPPORT:\\t0.005999200106652446\", \"RULE:\\tfrozenset({'frozen vegetables', 'shrimp', 'tomatoes'})\\nSUPPORT:\\t0.003999466737768298\", \"RULE:\\tfrozenset({'frozen vegetables', 'spaghetti', 'tomatoes'})\\nSUPPORT:\\t0.006665777896280496\", \"RULE:\\tfrozenset({'grated cheese', 'spaghetti', 'ground beef'})\\nSUPPORT:\\t0.005332622317024397\", \"RULE:\\tfrozenset({'ground beef', 'tomatoes', 'green tea'})\\nSUPPORT:\\t0.0030662578322890282\", \"RULE:\\tfrozenset({'ground beef', 'milk', 'herb & pepper'})\\nSUPPORT:\\t0.0035995200639914677\", \"RULE:\\tfrozenset({'ground beef', 'mineral water', 'herb & pepper'})\\nSUPPORT:\\t0.006665777896280496\", \"RULE:\\tfrozenset({'ground beef', 'nan', 'herb & pepper'})\\nSUPPORT:\\t0.015997866951073192\", \"RULE:\\tfrozenset({'ground beef', 'spaghetti', 'herb & pepper'})\\nSUPPORT:\\t0.006399146780429276\", \"RULE:\\tfrozenset({'ground beef', 'olive oil', 'milk'})\\nSUPPORT:\\t0.004932675643247567\", \"RULE:\\tfrozenset({'ground beef', 'milk', 'soup'})\\nSUPPORT:\\t0.003999466737768298\", \"RULE:\\tfrozenset({'ground beef', 'nan', 'tomato sauce'})\\nSUPPORT:\\t0.005332622317024397\", \"RULE:\\tfrozenset({'ground beef', 'spaghetti', 'pepper'})\\nSUPPORT:\\t0.003332888948140248\", \"RULE:\\tfrozenset({'ground beef', 'shrimp', 'spaghetti'})\\nSUPPORT:\\t0.005999200106652446\"]\n"
     ]
    }
   ],
   "source": [
    "from apyori import apriori\n",
    "rules = apriori(transactions, min_support = 0.003, min_confidence = 0.2, min_lift = 3, min_length = 2)\n",
    "results = list(rules)\n",
    "results_list = []\n",
    "for i in range(0, len(results)):\n",
    "    results_list.append('RULE:\\t' + str(results[i][0]) + '\\nSUPPORT:\\t' + str(results[i][1]))\n",
    "print (results_list[0:50])"
   ]
  }
 ],
 "metadata": {
  "kernelspec": {
   "display_name": "Python 3",
   "language": "python",
   "name": "python3"
  },
  "language_info": {
   "codemirror_mode": {
    "name": "ipython",
    "version": 3
   },
   "file_extension": ".py",
   "mimetype": "text/x-python",
   "name": "python",
   "nbconvert_exporter": "python",
   "pygments_lexer": "ipython3",
   "version": "3.6.8"
  }
 },
 "nbformat": 4,
 "nbformat_minor": 2
}
