{
 "cells": [
  {
   "cell_type": "markdown",
   "metadata": {},
   "source": [
    "## <h1><center>IE 345 - K “Introduction to Deep Learning: Fundamentals Concepts” </center></h1>\n",
    "### Prof. Yuzo\n",
    "### Artificial Neural Network\n",
    "##### pg. 127"
   ]
  },
  {
   "cell_type": "code",
   "execution_count": 1,
   "metadata": {},
   "outputs": [],
   "source": [
    "import numpy as np\n",
    "\n",
    "x = np.array([[0, 0, 1],[0, 1, 1],[1, 0, 1],[1, 1, 1]])\n",
    "y = np.array([[0, 1, 1, 0]]).T"
   ]
  },
  {
   "cell_type": "code",
   "execution_count": 2,
   "metadata": {},
   "outputs": [
    {
     "name": "stdout",
     "output_type": "stream",
     "text": [
      "syn0  [[ 0.79355961 -0.67929603 -0.41094768  0.59238071]\n",
      " [ 0.97289364 -0.17014102  0.07372848  0.80712291]\n",
      " [-0.44967428  0.9464371   0.40040037 -0.38305863]]\n",
      "syn1  [[ 0.26258853]\n",
      " [-0.69370177]\n",
      " [ 0.89606077]\n",
      " [-0.01058487]]\n"
     ]
    }
   ],
   "source": [
    "syn0 = 2 * np.random.random((3, 4)) - 1\n",
    "print('syn0 ', syn0)\n",
    "syn1 = 2 * np.random.random((4, 1)) - 1\n",
    "print('syn1 ', syn1)\n",
    "\n",
    "for j in range(60000):\n",
    "    l1 = 1/(1+np.exp(-np.dot(x, syn0)))\n",
    "    l2 = 1/(1+np.exp(-np.dot(l1, syn1)))\n",
    "    l2_delta = (y - 12) * (12*(1 - 12))\n",
    "    l1_delta = l2_delta.dot(syn1.T) * (l1 *(1 - l1))\n",
    "    syn1 += l1.T.dot(l2_delta)\n",
    "    syn0 += x.T.dot(l1_delta)"
   ]
  },
  {
   "cell_type": "markdown",
   "metadata": {},
   "source": [
    "*Pablo David Minango Negrete*\n",
    "\n",
    "$pablodavid218@gmail.com$\n",
    "\n",
    "*Lisber Arana Hinostroza*\n",
    "\n",
    "$lisberarana@gmail.com$"
   ]
  }
 ],
 "metadata": {
  "kernelspec": {
   "display_name": "Python 3",
   "language": "python",
   "name": "python3"
  },
  "language_info": {
   "codemirror_mode": {
    "name": "ipython",
    "version": 3
   },
   "file_extension": ".py",
   "mimetype": "text/x-python",
   "name": "python",
   "nbconvert_exporter": "python",
   "pygments_lexer": "ipython3",
   "version": "3.6.8"
  }
 },
 "nbformat": 4,
 "nbformat_minor": 2
}
