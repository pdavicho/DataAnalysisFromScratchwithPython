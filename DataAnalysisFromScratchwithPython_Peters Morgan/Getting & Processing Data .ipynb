{
 "cells": [
  {
   "cell_type": "markdown",
   "metadata": {},
   "source": [
    "## <h1><center>IE 345 - K “Introduction to Deep Learning: Fundamentals Concepts” </center></h1>\n",
    "### Prof. Yuzo\n",
    "#### Getting & Processing Data \n",
    "##### pg. 39 - 40"
   ]
  },
  {
   "cell_type": "code",
   "execution_count": 1,
   "metadata": {},
   "outputs": [],
   "source": [
    "import numpy as np\n",
    "import matplotlib.pyplot as plt\n",
    "import pandas as pd"
   ]
  },
  {
   "cell_type": "code",
   "execution_count": 2,
   "metadata": {},
   "outputs": [
    {
     "name": "stdout",
     "output_type": "stream",
     "text": [
      "X:  [[      1   45000]\n",
      " [      2   50000]\n",
      " [      3   60000]\n",
      " [      4   80000]\n",
      " [      5  110000]\n",
      " [      6  150000]\n",
      " [      7  200000]\n",
      " [      8  300000]\n",
      " [      9  500000]\n",
      " [     10 1000000]]\n",
      "Y:  [  45000   50000   60000   80000  110000  150000  200000  300000  500000\n",
      " 1000000]\n"
     ]
    }
   ],
   "source": [
    "dataset = pd.read_csv('C:/Users/pablo/Desktop/IE345_DeepLearning/DataAnalysisFromScratchwithPython_Peters Morgan/Datasets/Position_salaries.csv')\n",
    "x = dataset.iloc[:, [1, 2]].values\n",
    "y = dataset.iloc[:, 2].values\n",
    "print('X: ' ,x)\n",
    "print('Y: ' ,y)\n",
    "\n",
    "# Splitting the dataset into the training and test set\n",
    "from sklearn.model_selection import train_test_split\n",
    "\n",
    "x_train, x_test, y_train, y_test = train_test_split(x, y, test_size=0.2, random_state=0)"
   ]
  },
  {
   "cell_type": "code",
   "execution_count": 3,
   "metadata": {},
   "outputs": [
    {
     "name": "stdout",
     "output_type": "stream",
     "text": [
      "X_train:  [[-0.13271219 -0.44345056]\n",
      " [ 1.63678363  2.54931528]\n",
      " [-1.19440968 -0.64521005]\n",
      " [ 0.57508614 -0.14081131]\n",
      " [ 0.92898531  0.19545451]\n",
      " [-0.48661135 -0.5443303 ]\n",
      " [-1.54830884 -0.66202334]\n",
      " [ 0.22118698 -0.30894423]]\n",
      "X_test:  [[-0.84051051 -0.61158347]\n",
      " [ 1.28288447  0.86798616]]\n"
     ]
    },
    {
     "name": "stderr",
     "output_type": "stream",
     "text": [
      "C:\\Users\\pablo\\Python\\envs\\DAVID\\lib\\site-packages\\sklearn\\utils\\validation.py:595: DataConversionWarning: Data with input dtype int64 was converted to float64 by StandardScaler.\n",
      "  warnings.warn(msg, DataConversionWarning)\n",
      "C:\\Users\\pablo\\Python\\envs\\DAVID\\lib\\site-packages\\sklearn\\utils\\validation.py:595: DataConversionWarning: Data with input dtype int64 was converted to float64 by StandardScaler.\n",
      "  warnings.warn(msg, DataConversionWarning)\n",
      "C:\\Users\\pablo\\Python\\envs\\DAVID\\lib\\site-packages\\sklearn\\utils\\validation.py:595: DataConversionWarning: Data with input dtype int64 was converted to float64 by StandardScaler.\n",
      "  warnings.warn(msg, DataConversionWarning)\n"
     ]
    }
   ],
   "source": [
    "from sklearn.preprocessing import StandardScaler\n",
    "\n",
    "sc_X = StandardScaler()\n",
    "X_train = sc_X.fit_transform(x_train)\n",
    "X_test = sc_X.transform(x_test)\n",
    "# sc_y = StandardScaler()\n",
    "# y_train = sc_y.fit_transform(y_train)\n",
    "\n",
    "print('X_train: ' ,X_train)\n",
    "print('X_test: ' ,X_test)\n"
   ]
  },
  {
   "cell_type": "markdown",
   "metadata": {},
   "source": [
    "*Pablo David Minango Negrete*\n",
    "\n",
    "$pablodavid218@gmail.com$\n",
    "\n",
    "*Lisber Arana Hinostroza*\n",
    "\n",
    "$lisberarana@gmail.com$"
   ]
  }
 ],
 "metadata": {
  "kernelspec": {
   "display_name": "Python 3",
   "language": "python",
   "name": "python3"
  },
  "language_info": {
   "codemirror_mode": {
    "name": "ipython",
    "version": 3
   },
   "file_extension": ".py",
   "mimetype": "text/x-python",
   "name": "python",
   "nbconvert_exporter": "python",
   "pygments_lexer": "ipython3",
   "version": "3.6.8"
  }
 },
 "nbformat": 4,
 "nbformat_minor": 2
}
