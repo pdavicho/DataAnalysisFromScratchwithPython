{
 "cells": [
  {
   "cell_type": "markdown",
   "metadata": {},
   "source": [
    "###   CHAPTER I: Python Quick Review    \n",
    "Pablo David Minango Negrete\n",
    "\n",
    "RA: 226760\n",
    "\n",
    "Lista de exercicios: L18\n",
    "\n",
    "Data de entrega: 17/05/2019"
   ]
  },
  {
   "cell_type": "code",
   "execution_count": 1,
   "metadata": {},
   "outputs": [
    {
     "name": "stdout",
     "output_type": "stream",
     "text": [
      "6\n"
     ]
    }
   ],
   "source": [
    "## mathematical operations in Python :\n",
    "3 + 3\n",
    "print(3+3)"
   ]
  },
  {
   "cell_type": "code",
   "execution_count": 2,
   "metadata": {},
   "outputs": [
    {
     "data": {
      "text/plain": [
       "6"
      ]
     },
     "execution_count": 2,
     "metadata": {},
     "output_type": "execute_result"
    }
   ],
   "source": [
    "7 - 1"
   ]
  },
  {
   "cell_type": "code",
   "execution_count": 3,
   "metadata": {},
   "outputs": [
    {
     "data": {
      "text/plain": [
       "10"
      ]
     },
     "execution_count": 3,
     "metadata": {},
     "output_type": "execute_result"
    }
   ],
   "source": [
    "5 * 2"
   ]
  },
  {
   "cell_type": "code",
   "execution_count": 4,
   "metadata": {},
   "outputs": [
    {
     "data": {
      "text/plain": [
       "4.0"
      ]
     },
     "execution_count": 4,
     "metadata": {},
     "output_type": "execute_result"
    }
   ],
   "source": [
    "20 / 5"
   ]
  },
  {
   "cell_type": "code",
   "execution_count": 5,
   "metadata": {},
   "outputs": [
    {
     "data": {
      "text/plain": [
       "1"
      ]
     },
     "execution_count": 5,
     "metadata": {},
     "output_type": "execute_result"
    }
   ],
   "source": [
    "9 % 2 #modulo operation, returns the remainder of the division"
   ]
  },
  {
   "cell_type": "code",
   "execution_count": 6,
   "metadata": {},
   "outputs": [
    {
     "data": {
      "text/plain": [
       "8"
      ]
     },
     "execution_count": 6,
     "metadata": {},
     "output_type": "execute_result"
    }
   ],
   "source": [
    "2 ** 3   #exponentiation, 2 to the 3rd power"
   ]
  },
  {
   "cell_type": "code",
   "execution_count": 7,
   "metadata": {},
   "outputs": [
    {
     "name": "stdout",
     "output_type": "stream",
     "text": [
      "Thor\n",
      "11\n",
      "15\n"
     ]
    }
   ],
   "source": [
    "# Assigning values to variables:\n",
    "myName = \"Thor\"\n",
    "print(myName)   #output is “Thor”\n",
    "x = 5\n",
    "y = 6\n",
    "print(x + y)   #result is 11\n",
    "print(x*3)     #result is 15"
   ]
  },
  {
   "cell_type": "code",
   "execution_count": 8,
   "metadata": {},
   "outputs": [
    {
     "name": "stdout",
     "output_type": "stream",
     "text": [
      "Hi, my name is Thor and my age is 25. Anyway, my hobby is programming.\n"
     ]
    }
   ],
   "source": [
    "# Working on strings and variables:\n",
    "myName = \"Thor\"\n",
    "age = 25\n",
    "hobby = \"programming\"\n",
    "print('Hi, my name is ' + myName + ' and my age is ' + str(age) + '. Anyway, my hobby is ' + hobby + '.')"
   ]
  },
  {
   "cell_type": "code",
   "execution_count": 9,
   "metadata": {},
   "outputs": [
    {
     "data": {
      "text/plain": [
       "True"
      ]
     },
     "execution_count": 9,
     "metadata": {},
     "output_type": "execute_result"
    }
   ],
   "source": [
    "# Make it understandable to you, learners, and other programmers.\n",
    "# Comparison Operators\n",
    "8 == 8"
   ]
  },
  {
   "cell_type": "code",
   "execution_count": 10,
   "metadata": {},
   "outputs": [
    {
     "data": {
      "text/plain": [
       "True"
      ]
     },
     "execution_count": 10,
     "metadata": {},
     "output_type": "execute_result"
    }
   ],
   "source": [
    "8 > 4"
   ]
  },
  {
   "cell_type": "code",
   "execution_count": 11,
   "metadata": {},
   "outputs": [
    {
     "data": {
      "text/plain": [
       "False"
      ]
     },
     "execution_count": 11,
     "metadata": {},
     "output_type": "execute_result"
    }
   ],
   "source": [
    "8 < 4"
   ]
  },
  {
   "cell_type": "code",
   "execution_count": 12,
   "metadata": {},
   "outputs": [
    {
     "data": {
      "text/plain": [
       "True"
      ]
     },
     "execution_count": 12,
     "metadata": {},
     "output_type": "execute_result"
    }
   ],
   "source": [
    "8 != 4"
   ]
  },
  {
   "cell_type": "code",
   "execution_count": 13,
   "metadata": {},
   "outputs": [
    {
     "data": {
      "text/plain": [
       "False"
      ]
     },
     "execution_count": 13,
     "metadata": {},
     "output_type": "execute_result"
    }
   ],
   "source": [
    "8 != 8"
   ]
  },
  {
   "cell_type": "code",
   "execution_count": 14,
   "metadata": {},
   "outputs": [
    {
     "data": {
      "text/plain": [
       "True"
      ]
     },
     "execution_count": 14,
     "metadata": {},
     "output_type": "execute_result"
    }
   ],
   "source": [
    "8 >= 2"
   ]
  },
  {
   "cell_type": "code",
   "execution_count": 15,
   "metadata": {},
   "outputs": [
    {
     "data": {
      "text/plain": [
       "False"
      ]
     },
     "execution_count": 15,
     "metadata": {},
     "output_type": "execute_result"
    }
   ],
   "source": [
    "8 <= 2"
   ]
  },
  {
   "cell_type": "code",
   "execution_count": 16,
   "metadata": {},
   "outputs": [
    {
     "data": {
      "text/plain": [
       "True"
      ]
     },
     "execution_count": 16,
     "metadata": {},
     "output_type": "execute_result"
    }
   ],
   "source": [
    "'hello' == 'hello'"
   ]
  },
  {
   "cell_type": "code",
   "execution_count": 17,
   "metadata": {},
   "outputs": [
    {
     "data": {
      "text/plain": [
       "False"
      ]
     },
     "execution_count": 17,
     "metadata": {},
     "output_type": "execute_result"
    }
   ],
   "source": [
    "'cat' == 'dog'"
   ]
  },
  {
   "cell_type": "code",
   "execution_count": 18,
   "metadata": {},
   "outputs": [
    {
     "name": "stdout",
     "output_type": "stream",
     "text": [
      "What’s your email?\n",
      "pdavicho@gmail.com\n",
      "Type in your password.\n",
      "prueba\n",
      "Congratulations! You’re now logged in.\n"
     ]
    }
   ],
   "source": [
    "#If, Elif, and Else Statements (for Flow Control)\n",
    "print('What’s your email?')\n",
    "myEmail = input()\n",
    "print('Type in your password.')\n",
    "typedPassword = input()\n",
    "savedPassword = 'prueba'\n",
    "if typedPassword == savedPassword:\n",
    "    print('Congratulations! You’re now logged in.')\n",
    "else:\n",
    "    print('Your password is incorrect. Please try again.')"
   ]
  },
  {
   "cell_type": "code",
   "execution_count": 19,
   "metadata": {},
   "outputs": [
    {
     "name": "stdout",
     "output_type": "stream",
     "text": [
      "You have a message.\n",
      "You have a message.\n",
      "You have a message.\n",
      "You have a message.\n",
      "You have a message.\n",
      "You have a message.\n",
      "You have a message.\n",
      "You have a message.\n",
      "You have a message.\n",
      "You have a message.\n"
     ]
    }
   ],
   "source": [
    "#While loop\n",
    "inbox = 0\n",
    "while inbox < 10:\n",
    "    print('You have a message.')\n",
    "    inbox = inbox + 1\n"
   ]
  },
  {
   "cell_type": "code",
   "execution_count": 20,
   "metadata": {},
   "outputs": [
    {
     "name": "stdout",
     "output_type": "stream",
     "text": [
      "Please type your name.\n",
      "David\n",
      "Please type your name.\n",
      "Casanova\n",
      "Congratulations!\n"
     ]
    }
   ],
   "source": [
    "name = ''\n",
    "while name != 'Casanova':\n",
    "    print('Please type your name.')\n",
    "    name = input()\n",
    "print('Congratulations!')"
   ]
  },
  {
   "cell_type": "code",
   "execution_count": 21,
   "metadata": {},
   "outputs": [
    {
     "name": "stdout",
     "output_type": "stream",
     "text": [
      "0\n",
      "1\n",
      "4\n",
      "9\n",
      "16\n",
      "25\n",
      "36\n",
      "49\n",
      "64\n",
      "81\n"
     ]
    }
   ],
   "source": [
    "for i in range(10):\n",
    "    print(i ** 2)"
   ]
  },
  {
   "cell_type": "code",
   "execution_count": 22,
   "metadata": {},
   "outputs": [
    {
     "name": "stdout",
     "output_type": "stream",
     "text": [
      "5050\n"
     ]
    }
   ],
   "source": [
    "#Adding numbers from 0 to 100\n",
    "total = 0\n",
    "for num in range(101):\n",
    "    total = total + num\n",
    "print(total)"
   ]
  },
  {
   "cell_type": "code",
   "execution_count": 23,
   "metadata": {},
   "outputs": [
    {
     "name": "stdout",
     "output_type": "stream",
     "text": [
      "Pass\n",
      "Pass\n",
      "Pass\n",
      "Pass\n",
      "Pass\n",
      "Fail\n",
      "Fail\n",
      "Pass\n",
      "Fail\n",
      "Fail\n",
      "Pass\n",
      "Pass\n",
      "Fail\n",
      "Fail\n",
      "Fail\n",
      "Fail\n",
      "Fail\n",
      "Pass\n",
      "Pass\n",
      "[5, 5, 4, 4, 5, 5, 5, 4, 5, 5]\n",
      "10\n",
      "Percentage of positive reviews: \n",
      "52.63157894736842\n"
     ]
    }
   ],
   "source": [
    "#Another example. Positive and negative reviews.\n",
    "all_reviews = [5, 5, 4, 4, 5, 3, 2, 5, 3, 2, 5, 4, 3, 1, 1, 2, 3, 5, 5]\n",
    "positive_reviews = []\n",
    "for i in all_reviews:\n",
    "    if i > 3:\n",
    "        print('Pass')\n",
    "        positive_reviews.append(i)\n",
    "    else:\n",
    "        print('Fail')\n",
    "\n",
    "print(positive_reviews)\n",
    "print(len(positive_reviews))\n",
    "ratio_positive = len(positive_reviews) / len(all_reviews)\n",
    "print('Percentage of positive reviews: ')\n",
    "print(ratio_positive * 100)"
   ]
  },
  {
   "cell_type": "code",
   "execution_count": 24,
   "metadata": {},
   "outputs": [
    {
     "name": "stdout",
     "output_type": "stream",
     "text": [
      "Hello world!\n"
     ]
    }
   ],
   "source": [
    "# Functions\n",
    "def hello():\n",
    "    print('Hello world!')\n",
    "hello()"
   ]
  },
  {
   "cell_type": "code",
   "execution_count": 25,
   "metadata": {},
   "outputs": [
    {
     "name": "stdout",
     "output_type": "stream",
     "text": [
      "15\n",
      "90\n"
     ]
    }
   ],
   "source": [
    "#Define the function, tell what it should do, and then use or call it later.\n",
    "def add_numbers(a,b):\n",
    "    print(a + b)\n",
    "\n",
    "add_numbers(5,10)\n",
    "add_numbers(35,55)"
   ]
  },
  {
   "cell_type": "code",
   "execution_count": 26,
   "metadata": {},
   "outputs": [
    {
     "name": "stdout",
     "output_type": "stream",
     "text": [
      "Number is even.\n",
      "Hmm, it is odd.\n"
     ]
    }
   ],
   "source": [
    "#Check if a number is odd or even.\n",
    "def even_check(num):\n",
    "    if num % 2 == 0:\n",
    "        print('Number is even.')\n",
    "    else:\n",
    "        print('Hmm, it is odd.')\n",
    "\n",
    "even_check(50)\n",
    "even_check(51)"
   ]
  },
  {
   "cell_type": "code",
   "execution_count": 27,
   "metadata": {},
   "outputs": [],
   "source": [
    "#Lists\n",
    "my_list = ['eggs', 'ham', 'bacon']   #list with strings\n",
    "colours = ['red', 'green', 'blue']\n",
    "cousin_ages = [33, 35, 42]             #list with integers\n",
    "mixed_list = [3.14, 'circle', 'eggs', 500]   #list with integers and strings"
   ]
  },
  {
   "cell_type": "code",
   "execution_count": 28,
   "metadata": {},
   "outputs": [
    {
     "data": {
      "text/plain": [
       "'blue'"
      ]
     },
     "execution_count": 28,
     "metadata": {},
     "output_type": "execute_result"
    }
   ],
   "source": [
    "#Working with lists\n",
    "colours = ['red', 'blue', 'green']\n",
    "colours[0]   #indexing starts at 0, so it returns first item in the list which is ‘red’\n",
    "colours[1]   #returns second item, which is ‘green’"
   ]
  },
  {
   "cell_type": "code",
   "execution_count": 29,
   "metadata": {},
   "outputs": [
    {
     "name": "stdout",
     "output_type": "stream",
     "text": [
      "[0, 1]\n",
      "[1, 2, 3, 4, 5, 6, 7, 8, 9]\n",
      "[3, 4, 5]\n"
     ]
    }
   ],
   "source": [
    "#Slicing the list\n",
    "my_list = [0, 1, 2, 3, 4, 5, 6, 7, 8, 9]\n",
    "print(my_list[0:2])    #returns [0, 1]\n",
    "print(my_list[1:])     #returns [1, 2, 3, 4, 5, 6, 7, 8, 9]\n",
    "print(my_list[3:6])  #returns [3, 4, 5]"
   ]
  },
  {
   "cell_type": "code",
   "execution_count": 30,
   "metadata": {},
   "outputs": [
    {
     "name": "stdout",
     "output_type": "stream",
     "text": [
      "10\n"
     ]
    }
   ],
   "source": [
    "#Length of list\n",
    "my_list = [0,1,2,3,4,5,6,7,8,9]\n",
    "print(len(my_list))   #returns 10"
   ]
  },
  {
   "cell_type": "code",
   "execution_count": 31,
   "metadata": {},
   "outputs": [
    {
     "name": "stdout",
     "output_type": "stream",
     "text": [
      "['yellow', 'green', 'blue']\n"
     ]
    }
   ],
   "source": [
    "#Assigning new values to list items\n",
    "colours = ['red', 'green', 'blue']\n",
    "colours[0] = 'yellow'\n",
    "print(colours)   #result should be ['yellow', 'green', 'blue']"
   ]
  },
  {
   "cell_type": "code",
   "execution_count": 32,
   "metadata": {},
   "outputs": [
    {
     "name": "stdout",
     "output_type": "stream",
     "text": [
      "['red', 'green', 'blue', 'pink']\n"
     ]
    }
   ],
   "source": [
    "#Concatenation and appending\n",
    "colours = ['red', 'green', 'blue']\n",
    "colours.append('pink')\n",
    "print(colours)"
   ]
  },
  {
   "cell_type": "code",
   "execution_count": 33,
   "metadata": {},
   "outputs": [
    {
     "name": "stdout",
     "output_type": "stream",
     "text": [
      "['GOT', 'TWD', 'WW', 'HP', 'LOTR', 'SW']\n"
     ]
    }
   ],
   "source": [
    "fave_series = ['GOT', 'TWD', 'WW']\n",
    "fave_movies = ['HP', 'LOTR', 'SW']\n",
    "fave_all = fave_series + fave_movies\n",
    "print(fave_all)"
   ]
  }
 ],
 "metadata": {
  "kernelspec": {
   "display_name": "Python 3",
   "language": "python",
   "name": "python3"
  },
  "language_info": {
   "codemirror_mode": {
    "name": "ipython",
    "version": 3
   },
   "file_extension": ".py",
   "mimetype": "text/x-python",
   "name": "python",
   "nbconvert_exporter": "python",
   "pygments_lexer": "ipython3",
   "version": "3.6.8"
  }
 },
 "nbformat": 4,
 "nbformat_minor": 2
}
